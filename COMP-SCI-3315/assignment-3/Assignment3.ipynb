{
 "cells": [
  {
   "cell_type": "markdown",
   "metadata": {
    "id": "DMOJD0_jdzzg"
   },
   "source": [
    "## Computer vision 2022 Assignment 3: Deep Learning for Perception Tasks\n",
    "\n",
    "This assignment contains 2 questions. The first question probes understanding of deep learning for classification. The second question requires you to write a short description of a Computer Vision method. You wil lneed to submit two separate files, one for each question.\n",
    "\n",
    "# Question 1: A simple classifier, 20 marks (70%)\n",
    "\n",
    "For this exercise, we provide demo code showing how to train a network on a small dataset called Fashion-MNIST. Please run through the code \"tutorial-style\" to get a sense of what it is doing. Then use the code alongside lecture notes and other resources to understand how to use pytorch libraries to implement, train and use a neural network.\n",
    "\n",
    "For the Fashion-MNIST dataset the lables from 0-9 correspond to various clothing classes so you might find it convenient to create a python list as follows:\n",
    "\n",
    "class_names = ['T-shirt/top', 'Trouser', 'Pullover', 'Dress', 'Coat',\n",
    "               'Sandal', 'Shirt', 'Sneaker', 'Bag', 'Ankle boot']\n",
    "\n",
    "You will need to answer various questions about the system, how it operates, the results of experiments with it and make modifications to it yourself. You can change the training scheme and the network structure. \n",
    "\n",
    "Organize your own text and code cell to show the answer of each questions.\n",
    "\n",
    "Detailed requirements:\n",
    "\n",
    "Q1.1 (1 point)\n",
    "\n",
    "Extract 3 images of different types of clothing from the training dataset, print out the size/shape of the training images, and display the three with their corresponding labels. \n",
    "\n",
    "Q1.2 (2 point) Run the training code for 10 epochs, for different values of the learning rate. Fill in the table below and plot the loss curves for each experiment:\n",
    "\n",
    "|Lr|Accuracy|\n",
    "|---|---|\n",
    "|1    |20.0%|\n",
    "|0.1  |42.9%|\n",
    "|0.01 |59.9%|\n",
    "|0.001|61.8%|\n",
    "\n",
    "\n",
    "Q1.3 (3 point) Report the number of epochs when the network converges (or nukber of epochs for the best accuracy, if it fails to converge). Fill in the table below and plot the loss curve for each experiment:\n",
    "\n",
    "|Lr|Accuracy|Epoch|\n",
    "|---|---|---|\n",
    "|1   |      |     |\n",
    "|0.1|          |    |\n",
    "|0.01|         |    |\n",
    "|0.001  |        |     |\n",
    "\n",
    "\n",
    "Q1.4 (2 points) Compare the results in table 1 and table 2, what is your observation and your understanding of learning rate?\n",
    "\n",
    "\n",
    "Q1.5 (5 points) Build a wider network by modifying the code that constructs the network so that the hidden layer(s) contain more perceptrons, and record the accuracy along with the number of trainable parameters in your model.  Now modify the oroginal network to be deeper instead of wider (i.e. by adding more hidden layers). Record your accuracy and network size findings. Plot the loss curve for each experiment. Write down your conclusions about changing the network structure?  \n",
    "\n",
    "|Structures|Accuracy|Parameters|\n",
    "|---|---|---|\n",
    "|Base   |      ||\n",
    "|Deeper|          ||\n",
    "|Wider|         ||\n",
    "\n",
    "\n",
    "Q1.6 (2 points) Calculate the mean of the gradients of the loss to all trainable parameters. Plot the gradients curve for the first 100 training steps. What are your observations? Note that this gradients will be saved with the training weight automatically after you call loss.backwards(). Hint: the mean of the gradients decrease.\n",
    "\n",
    "For more exlanation of q1.7, you could refer to the following simple instructions: https://colab.research.google.com/drive/1XAsyNegGSvMf3_B6MrsXht7-fHqtJ7OW?usp=sharing\n",
    "\n",
    "Q1.7 (5 points) Modify the network structure and training/test to use a small convolutional neural network instead of an MLP. Discuss your findings with rehgard to convergence, accuracy and number of parameters, relative to MLPs.  \n",
    "\n",
    "Hint: Look at the structure of the CNN in the Workshop 3 examples."
   ]
  },
  {
   "cell_type": "code",
   "execution_count": 36,
   "metadata": {
    "id": "-sqkIpLjpVsh"
   },
   "outputs": [
    {
     "name": "stdout",
     "output_type": "stream",
     "text": [
      "The autoreload extension is already loaded. To reload it, use:\n",
      "  %reload_ext autoreload\n"
     ]
    }
   ],
   "source": [
    "import numpy as np # This is for mathematical operations\n",
    "\n",
    "# this is used in plotting \n",
    "import matplotlib.pyplot as plt \n",
    "import time\n",
    "import pylab as pl\n",
    "from IPython import display\n",
    "\n",
    "%matplotlib inline\n",
    "\n",
    "%load_ext autoreload\n",
    "%autoreload 2\n",
    "%reload_ext autoreload"
   ]
  },
  {
   "cell_type": "code",
   "execution_count": 37,
   "metadata": {
    "id": "1wy3xhEx_x-1"
   },
   "outputs": [],
   "source": [
    "#### Tutorial Code\n",
    "####PyTorch has two primitives to work with data: torch.utils.data.DataLoader and torch.utils.data.Dataset. \n",
    "#####Dataset stores samples and their corresponding labels, and DataLoader wraps an iterable around the Dataset.\n",
    "import torch\n",
    "from torch import nn\n",
    "from torch.utils.data import DataLoader\n",
    "from torchvision import datasets, transforms\n",
    "from torchvision.transforms import ToTensor, Lambda, Compose\n",
    "import matplotlib.pyplot as plt\n",
    "\n",
    "# Download training data from open datasets. \n",
    "##Every TorchVision Dataset includes two arguments: \n",
    "##transform and target_transform to modify the samples and labels respectively.\n",
    "\n",
    "training_data = datasets.FashionMNIST(\n",
    "    root=\"data\",\n",
    "    train=True,\n",
    "    download=True,\n",
    "    transform=ToTensor(),\n",
    ")\n",
    "\n",
    "# Download test data from open datasets.\n",
    "test_data = datasets.FashionMNIST(\n",
    "    root=\"data\",\n",
    "    train=False,\n",
    "    download=True,\n",
    "    transform=ToTensor(),\n",
    ")"
   ]
  },
  {
   "cell_type": "markdown",
   "metadata": {
    "id": "oNI4IusI_1ol"
   },
   "source": [
    "We pass the Dataset as an argument to DataLoader. This wraps an iterable over our dataset and supports automatic batching, sampling, shuffling, and multiprocess data loading. Here we define a batch size of 64, i.e. each element in the dataloader iterable will return a batch of 64 features and labels."
   ]
  },
  {
   "cell_type": "code",
   "execution_count": 38,
   "metadata": {
    "id": "nQZ5l5Zs_4C3"
   },
   "outputs": [
    {
     "name": "stdout",
     "output_type": "stream",
     "text": [
      "Shape of X [N, C, H, W]:  torch.Size([64, 1, 28, 28])\n",
      "Shape of y:  torch.Size([64]) torch.int64\n"
     ]
    }
   ],
   "source": [
    "batch_size = 64\n",
    "num_workers = 20\n",
    "\n",
    "# Create data loaders.\n",
    "train_dataloader = DataLoader(training_data, batch_size=batch_size, num_workers=num_workers)\n",
    "test_dataloader = DataLoader(test_data, batch_size=batch_size, num_workers=num_workers)\n",
    "\n",
    "for X, y in test_dataloader:\n",
    "    print(\"Shape of X [N, C, H, W]: \", X.shape)\n",
    "    print(\"Shape of y: \", y.shape, y.dtype)\n",
    "    break"
   ]
  },
  {
   "cell_type": "markdown",
   "metadata": {
    "id": "9L1vl5rC52Un"
   },
   "source": [
    "Add in a code cell to inspect the training data, as per Q1.1. Each element of the training_data structure has a greyscale image (which you can use plt.imshow(img[0,:,:]) to display, just like you did in previous assignments.  "
   ]
  },
  {
   "cell_type": "code",
   "execution_count": 8,
   "metadata": {
    "id": "KpEhLSHg4Idw"
   },
   "outputs": [
    {
     "name": "stdout",
     "output_type": "stream",
     "text": [
      "Size and shape of training images: torch.Size([1, 28, 28])\n"
     ]
    },
    {
     "data": {
      "image/png": "[encoded data removed]",
      "text/plain": [
       "<Figure size 1200x400 with 3 Axes>"
      ]
     },
     "metadata": {},
     "output_type": "display_data"
    }
   ],
   "source": [
    "print(f\"Size and shape of training images: {training_data[0][0].shape}\")\n",
    "\n",
    "# defining the function to draw the images\n",
    "def plot_image(image, label, ax):\n",
    "    image = image.numpy().squeeze()\n",
    "    ax.imshow(image, cmap='gray')\n",
    "    ax.set_title(f'{training_data.classes[label]}')\n",
    "    ax.axis('off')\n",
    "\n",
    "\n",
    "images, labels = [], []\n",
    "unique_labels = set()\n",
    "for img, lbl in training_data:\n",
    "    if lbl not in unique_labels:\n",
    "        images.append(img)\n",
    "        labels.append(lbl)\n",
    "        unique_labels.add(lbl)\n",
    "    if len(unique_labels) >= 3:\n",
    "        break\n",
    "\n",
    "\n",
    "fig, axes = plt.subplots(1, 3, figsize=(12, 4))\n",
    "for img, lbl, ax in zip(images, labels, axes):\n",
    "    plot_image(img, lbl, ax)\n",
    "plt.show()"
   ]
  },
  {
   "cell_type": "markdown",
   "metadata": {
    "id": "XMtCU2LO_9Dk"
   },
   "source": [
    "To define a neural network in PyTorch, we create a class that inherits from nn.Module. We define the layers of the network in the init function and specify how data will pass through the network in the forward function. To accelerate operations in the neural network, we move it to the GPU if available."
   ]
  },
  {
   "cell_type": "code",
   "execution_count": 9,
   "metadata": {
    "id": "TRSp7pd3_6bS"
   },
   "outputs": [
    {
     "name": "stdout",
     "output_type": "stream",
     "text": [
      "Using cpu device\n",
      "NeuralNetwork(\n",
      "  (flatten): Flatten(start_dim=1, end_dim=-1)\n",
      "  (linear_relu_stack): Sequential(\n",
      "    (0): Linear(in_features=784, out_features=512, bias=True)\n",
      "    (1): ReLU()\n",
      "    (2): Linear(in_features=512, out_features=512, bias=True)\n",
      "    (3): ReLU()\n",
      "    (4): Linear(in_features=512, out_features=10, bias=True)\n",
      "  )\n",
      ")\n"
     ]
    }
   ],
   "source": [
    "# Get cpu or gpu device for training.\n",
    "device = \"cuda\" if torch.cuda.is_available() else \"cpu\"\n",
    "print(\"Using {} device\".format(device))\n",
    "\n",
    "import torch.nn.functional as F\n",
    "\n",
    "# Define model\n",
    "class NeuralNetwork(nn.Module):\n",
    "    def __init__(self):\n",
    "        super(NeuralNetwork, self).__init__()\n",
    "        self.flatten = nn.Flatten()\n",
    "        self.linear_relu_stack = nn.Sequential(\n",
    "            nn.Linear(28*28, 512),\n",
    "            nn.ReLU(),\n",
    "            nn.Linear(512, 512),\n",
    "            nn.ReLU(),\n",
    "            nn.Linear(512, 10)\n",
    "       )\n",
    "\n",
    "    def forward(self, x):\n",
    "        x = self.flatten(x)\n",
    "        logits = self.linear_relu_stack(x)\n",
    "\n",
    "        return logits\n",
    "\n",
    "model = NeuralNetwork().to(device)\n",
    "print(model)"
   ]
  },
  {
   "cell_type": "code",
   "execution_count": 10,
   "metadata": {
    "id": "nYAnKhOfABZr"
   },
   "outputs": [],
   "source": [
    "###Define the loss function and the optimizer\n",
    "loss_fn = nn.CrossEntropyLoss()\n",
    "optimizer = torch.optim.SGD(model.parameters(), lr=1e-3)"
   ]
  },
  {
   "cell_type": "markdown",
   "metadata": {
    "id": "OFZYEHY7ADvS"
   },
   "source": [
    "In a single training loop, the model makes predictions on the training dataset (fed to it in batches), and backpropagates the prediction error to adjust the model’s parameters."
   ]
  },
  {
   "cell_type": "code",
   "execution_count": 41,
   "metadata": {
    "id": "L741B0uXAFrf"
   },
   "outputs": [],
   "source": [
    "def train(dataloader, model, loss_fn, optimizer):\n",
    "    size = len(dataloader.dataset)\n",
    "    model.train()\n",
    "    for batch, (X, y) in enumerate(dataloader):\n",
    "        X, y = X.to(device), y.to(device)\n",
    "\n",
    "        # Compute prediction error\n",
    "        pred = model(X)\n",
    "        loss = loss_fn(pred, y)\n",
    "\n",
    "        # Backpropagation\n",
    "        optimizer.zero_grad()\n",
    "        loss.backward()\n",
    "        optimizer.step()\n",
    "\n",
    "        if batch % 100 == 0:\n",
    "            loss, current = loss.item(), batch * len(X)\n",
    "            print(f\"loss: {loss:>7f}  [{current:>5d}/{size:>5d}]\")"
   ]
  },
  {
   "cell_type": "code",
   "execution_count": 42,
   "metadata": {
    "id": "A44xKKnjAINf"
   },
   "outputs": [],
   "source": [
    "##Define a test function\n",
    "def test(dataloader, model, loss_fn,):\n",
    "    size = len(dataloader.dataset)\n",
    "    num_batches = len(dataloader)\n",
    "    model.eval()\n",
    "    test_loss, correct = 0, 0\n",
    "    with torch.no_grad():\n",
    "        for X, y in dataloader:\n",
    "            X, y = X.to(device), y.to(device)\n",
    "            pred = model(X)\n",
    "            test_loss += loss_fn(pred, y).item()\n",
    "            correct += (pred.argmax(1) == y).type(torch.float).sum().item()\n",
    "    test_loss /= num_batches\n",
    "    correct /= size\n",
    "    print(f\"Test Error: \\n Accuracy: {(100*correct):>0.1f}%, Avg loss: {test_loss:>8f} \\n\")"
   ]
  },
  {
   "cell_type": "code",
   "execution_count": 30,
   "metadata": {
    "id": "mJLACDm9AKxv"
   },
   "outputs": [
    {
     "name": "stdout",
     "output_type": "stream",
     "text": [
      "Epoch 1\n",
      "-------------------------------\n",
      "loss: 0.592934  [    0/60000]\n",
      "loss: 0.767794  [ 6400/60000]\n",
      "loss: 0.437623  [12800/60000]\n",
      "loss: 0.733908  [19200/60000]\n",
      "loss: 0.864606  [25600/60000]\n",
      "loss: 0.615355  [32000/60000]\n",
      "loss: 0.771728  [38400/60000]\n",
      "loss: 0.882595  [44800/60000]\n",
      "loss: 0.773922  [51200/60000]\n",
      "loss: 0.787544  [57600/60000]\n",
      "Test Error: \n",
      " Accuracy: 74.6%, Avg loss: 0.664063 \n",
      "\n",
      "Epoch 2\n",
      "-------------------------------\n",
      "loss: 0.594110  [    0/60000]\n",
      "loss: 0.755079  [ 6400/60000]\n",
      "loss: 0.439827  [12800/60000]\n",
      "loss: 0.723811  [19200/60000]\n",
      "loss: 0.878717  [25600/60000]\n",
      "loss: 0.572997  [32000/60000]\n",
      "loss: 0.754157  [38400/60000]\n",
      "loss: 0.855430  [44800/60000]\n",
      "loss: 0.743428  [51200/60000]\n",
      "loss: 0.736492  [57600/60000]\n",
      "Test Error: \n",
      " Accuracy: 76.8%, Avg loss: 0.645678 \n",
      "\n",
      "Epoch 3\n",
      "-------------------------------\n",
      "loss: 0.579866  [    0/60000]\n",
      "loss: 0.741095  [ 6400/60000]\n",
      "loss: 0.432610  [12800/60000]\n",
      "loss: 0.716788  [19200/60000]\n",
      "loss: 0.830729  [25600/60000]\n",
      "loss: 0.544369  [32000/60000]\n",
      "loss: 0.726277  [38400/60000]\n",
      "loss: 0.835747  [44800/60000]\n",
      "loss: 0.735506  [51200/60000]\n",
      "loss: 0.709737  [57600/60000]\n",
      "Test Error: \n",
      " Accuracy: 77.0%, Avg loss: 0.635686 \n",
      "\n",
      "Epoch 4\n",
      "-------------------------------\n",
      "loss: 0.561561  [    0/60000]\n",
      "loss: 0.725886  [ 6400/60000]\n",
      "loss: 0.429915  [12800/60000]\n",
      "loss: 0.711542  [19200/60000]\n",
      "loss: 0.805772  [25600/60000]\n",
      "loss: 0.525988  [32000/60000]\n",
      "loss: 0.711697  [38400/60000]\n",
      "loss: 0.824229  [44800/60000]\n",
      "loss: 0.730557  [51200/60000]\n",
      "loss: 0.697427  [57600/60000]\n",
      "Test Error: \n",
      " Accuracy: 77.2%, Avg loss: 0.629746 \n",
      "\n",
      "Epoch 5\n",
      "-------------------------------\n",
      "loss: 0.542379  [    0/60000]\n",
      "loss: 0.713651  [ 6400/60000]\n",
      "loss: 0.423535  [12800/60000]\n",
      "loss: 0.706337  [19200/60000]\n",
      "loss: 0.788181  [25600/60000]\n",
      "loss: 0.517085  [32000/60000]\n",
      "loss: 0.701041  [38400/60000]\n",
      "loss: 0.816368  [44800/60000]\n",
      "loss: 0.726369  [51200/60000]\n",
      "loss: 0.690199  [57600/60000]\n",
      "Test Error: \n",
      " Accuracy: 77.5%, Avg loss: 0.625881 \n",
      "\n",
      "Done!\n"
     ]
    }
   ],
   "source": [
    "#Train and test the model\n",
    "epochs = 5\n",
    "for t in range(epochs):\n",
    "    print(f\"Epoch {t+1}\\n-------------------------------\")\n",
    "    train(train_dataloader, model, loss_fn, optimizer)\n",
    "    test(test_dataloader, model, loss_fn)\n",
    "print(\"Done!\")"
   ]
  },
  {
   "cell_type": "code",
   "execution_count": 44,
   "metadata": {},
   "outputs": [],
   "source": [
    "# Reseting the functions and small modifications for the next couple of questions\n",
    "\n",
    "\n",
    "def train(dataloader, model, loss_fn, optimizer):\n",
    "    size = len(dataloader.dataset)\n",
    "    model.train()\n",
    "    for batch, (X, y) in enumerate(dataloader):\n",
    "        X, y = X.to(device), y.to(device)\n",
    "\n",
    "        # Compute prediction error\n",
    "        pred = model(X)\n",
    "        loss = loss_fn(pred, y)\n",
    "\n",
    "        # Backpropagation\n",
    "        optimizer.zero_grad()\n",
    "        loss.backward()\n",
    "        optimizer.step()\n",
    "\n",
    "        if batch % 100 == 0:\n",
    "            loss, current = loss.item(), batch * len(X)\n",
    "\n",
    "def test(dataloader, model, loss_fn,):\n",
    "    size = len(dataloader.dataset)\n",
    "    num_batches = len(dataloader)\n",
    "    model.eval()\n",
    "    test_loss, correct = 0, 0\n",
    "    with torch.no_grad():\n",
    "        for X, y in dataloader:\n",
    "            X, y = X.to(device), y.to(device)\n",
    "            pred = model(X)\n",
    "            test_loss += loss_fn(pred, y).item()\n",
    "            correct += (pred.argmax(1) == y).type(torch.float).sum().item()\n",
    "    test_loss /= num_batches\n",
    "    correct /= size\n",
    "    return test_loss, correct"
   ]
  },
  {
   "cell_type": "code",
   "execution_count": 43,
   "metadata": {},
   "outputs": [
    {
     "name": "stdout",
     "output_type": "stream",
     "text": [
      "loss: 2.308044  [    0/60000]\n",
      "loss: 2.061347  [ 6400/60000]\n",
      "loss: 2.316760  [12800/60000]\n",
      "loss: 3.225693  [19200/60000]\n",
      "loss: 1.529039  [25600/60000]\n",
      "loss: 1.780399  [32000/60000]\n",
      "loss: 3.028064  [38400/60000]\n",
      "loss: 1.728857  [44800/60000]\n",
      "loss: 1.757735  [51200/60000]\n",
      "loss: 1.686988  [57600/60000]\n",
      "Test Error: \n",
      " Accuracy: 19.9%, Avg loss: 1.732433 \n",
      "\n"
     ]
    },
    {
     "ename": "TypeError",
     "evalue": "cannot unpack non-iterable NoneType object",
     "output_type": "error",
     "traceback": [
      "\u001b[0;31m---------------------------------------------------------------------------\u001b[0m",
      "\u001b[0;31mTypeError\u001b[0m                                 Traceback (most recent call last)",
      "Cell \u001b[0;32mIn[43], line 12\u001b[0m\n\u001b[1;32m     10\u001b[0m \u001b[38;5;28;01mfor\u001b[39;00m t \u001b[38;5;129;01min\u001b[39;00m \u001b[38;5;28mrange\u001b[39m(epochs):\n\u001b[1;32m     11\u001b[0m     train(train_dataloader, model, loss_fn, optimizer)\n\u001b[0;32m---> 12\u001b[0m     loss, correct \u001b[38;5;241m=\u001b[39m test(test_dataloader, model, loss_fn)\n\u001b[1;32m     14\u001b[0m     lossArr\u001b[38;5;241m.\u001b[39mappend(loss)\n\u001b[1;32m     16\u001b[0m plt\u001b[38;5;241m.\u001b[39mfigure(figsize\u001b[38;5;241m=\u001b[39m(\u001b[38;5;241m10\u001b[39m, \u001b[38;5;241m6\u001b[39m))\n",
      "\u001b[0;31mTypeError\u001b[0m: cannot unpack non-iterable NoneType object"
     ]
    }
   ],
   "source": [
    "# Question 1.2\n",
    "\n",
    "learnRate = [1, 0.1, 0.01, 0.001]\n",
    "\n",
    "for learnR in learnRate:\n",
    "    model = NeuralNetwork().to(device)\n",
    "    optimizer = torch.optim.SGD(model.parameters(), lr=learnR)\n",
    "    epochs = 10\n",
    "    lossArr = []\n",
    "    for t in range(epochs):\n",
    "        train(train_dataloader, model, loss_fn, optimizer)\n",
    "        loss, correct = test(test_dataloader, model, loss_fn)\n",
    "\n",
    "        lossArr.append(loss)\n",
    "\n",
    "    plt.figure(figsize=(10, 6))\n",
    "    plt.plot(range(epochs), lossArr, marker='o', linestyle='-', color='b')\n",
    "    plt.title(f\"loss graph for learnRate: {learnR}\")\n",
    "    plt.xlabel('Epoch')\n",
    "    plt.ylabel('Loss')\n",
    "    plt.grid(True)\n",
    "    plt.show()\n",
    "    \n",
    "        \n",
    "print(\"Done!\")"
   ]
  },
  {
   "cell_type": "code",
   "execution_count": 45,
   "metadata": {},
   "outputs": [
    {
     "name": "stdout",
     "output_type": "stream",
     "text": [
      "nan\n",
      "nan\n",
      "nan\n"
     ]
    },
    {
     "ename": "KeyboardInterrupt",
     "evalue": "",
     "output_type": "error",
     "traceback": [
      "\u001b[0;31m---------------------------------------------------------------------------\u001b[0m",
      "\u001b[0;31mKeyboardInterrupt\u001b[0m                         Traceback (most recent call last)",
      "Cell \u001b[0;32mIn[45], line 13\u001b[0m\n\u001b[1;32m     10\u001b[0m best_epoch \u001b[38;5;241m=\u001b[39m \u001b[38;5;241m0\u001b[39m\n\u001b[1;32m     12\u001b[0m \u001b[38;5;28;01mfor\u001b[39;00m t \u001b[38;5;129;01min\u001b[39;00m \u001b[38;5;28mrange\u001b[39m(epochs):\n\u001b[0;32m---> 13\u001b[0m     \u001b[43mtrain\u001b[49m\u001b[43m(\u001b[49m\u001b[43mtrain_dataloader\u001b[49m\u001b[43m,\u001b[49m\u001b[43m \u001b[49m\u001b[43mmodel\u001b[49m\u001b[43m,\u001b[49m\u001b[43m \u001b[49m\u001b[43mloss_fn\u001b[49m\u001b[43m,\u001b[49m\u001b[43m \u001b[49m\u001b[43moptimizer\u001b[49m\u001b[43m)\u001b[49m\n\u001b[1;32m     14\u001b[0m     loss, accuracy \u001b[38;5;241m=\u001b[39m test(test_dataloader, model, loss_fn)\n\u001b[1;32m     16\u001b[0m     \u001b[38;5;28mprint\u001b[39m(loss)\n",
      "Cell \u001b[0;32mIn[44], line 16\u001b[0m, in \u001b[0;36mtrain\u001b[0;34m(dataloader, model, loss_fn, optimizer)\u001b[0m\n\u001b[1;32m     14\u001b[0m \u001b[38;5;66;03m# Backpropagation\u001b[39;00m\n\u001b[1;32m     15\u001b[0m optimizer\u001b[38;5;241m.\u001b[39mzero_grad()\n\u001b[0;32m---> 16\u001b[0m \u001b[43mloss\u001b[49m\u001b[38;5;241;43m.\u001b[39;49m\u001b[43mbackward\u001b[49m\u001b[43m(\u001b[49m\u001b[43m)\u001b[49m\n\u001b[1;32m     17\u001b[0m optimizer\u001b[38;5;241m.\u001b[39mstep()\n\u001b[1;32m     19\u001b[0m \u001b[38;5;28;01mif\u001b[39;00m batch \u001b[38;5;241m%\u001b[39m \u001b[38;5;241m100\u001b[39m \u001b[38;5;241m==\u001b[39m \u001b[38;5;241m0\u001b[39m:\n",
      "File \u001b[0;32m~/venv/lib/python3.10/site-packages/torch/_tensor.py:525\u001b[0m, in \u001b[0;36mTensor.backward\u001b[0;34m(self, gradient, retain_graph, create_graph, inputs)\u001b[0m\n\u001b[1;32m    515\u001b[0m \u001b[38;5;28;01mif\u001b[39;00m has_torch_function_unary(\u001b[38;5;28mself\u001b[39m):\n\u001b[1;32m    516\u001b[0m     \u001b[38;5;28;01mreturn\u001b[39;00m handle_torch_function(\n\u001b[1;32m    517\u001b[0m         Tensor\u001b[38;5;241m.\u001b[39mbackward,\n\u001b[1;32m    518\u001b[0m         (\u001b[38;5;28mself\u001b[39m,),\n\u001b[0;32m   (...)\u001b[0m\n\u001b[1;32m    523\u001b[0m         inputs\u001b[38;5;241m=\u001b[39minputs,\n\u001b[1;32m    524\u001b[0m     )\n\u001b[0;32m--> 525\u001b[0m \u001b[43mtorch\u001b[49m\u001b[38;5;241;43m.\u001b[39;49m\u001b[43mautograd\u001b[49m\u001b[38;5;241;43m.\u001b[39;49m\u001b[43mbackward\u001b[49m\u001b[43m(\u001b[49m\n\u001b[1;32m    526\u001b[0m \u001b[43m    \u001b[49m\u001b[38;5;28;43mself\u001b[39;49m\u001b[43m,\u001b[49m\u001b[43m \u001b[49m\u001b[43mgradient\u001b[49m\u001b[43m,\u001b[49m\u001b[43m \u001b[49m\u001b[43mretain_graph\u001b[49m\u001b[43m,\u001b[49m\u001b[43m \u001b[49m\u001b[43mcreate_graph\u001b[49m\u001b[43m,\u001b[49m\u001b[43m \u001b[49m\u001b[43minputs\u001b[49m\u001b[38;5;241;43m=\u001b[39;49m\u001b[43minputs\u001b[49m\n\u001b[1;32m    527\u001b[0m \u001b[43m\u001b[49m\u001b[43m)\u001b[49m\n",
      "File \u001b[0;32m~/venv/lib/python3.10/site-packages/torch/autograd/__init__.py:267\u001b[0m, in \u001b[0;36mbackward\u001b[0;34m(tensors, grad_tensors, retain_graph, create_graph, grad_variables, inputs)\u001b[0m\n\u001b[1;32m    262\u001b[0m     retain_graph \u001b[38;5;241m=\u001b[39m create_graph\n\u001b[1;32m    264\u001b[0m \u001b[38;5;66;03m# The reason we repeat the same comment below is that\u001b[39;00m\n\u001b[1;32m    265\u001b[0m \u001b[38;5;66;03m# some Python versions print out the first line of a multi-line function\u001b[39;00m\n\u001b[1;32m    266\u001b[0m \u001b[38;5;66;03m# calls in the traceback and some print out the last line\u001b[39;00m\n\u001b[0;32m--> 267\u001b[0m \u001b[43m_engine_run_backward\u001b[49m\u001b[43m(\u001b[49m\n\u001b[1;32m    268\u001b[0m \u001b[43m    \u001b[49m\u001b[43mtensors\u001b[49m\u001b[43m,\u001b[49m\n\u001b[1;32m    269\u001b[0m \u001b[43m    \u001b[49m\u001b[43mgrad_tensors_\u001b[49m\u001b[43m,\u001b[49m\n\u001b[1;32m    270\u001b[0m \u001b[43m    \u001b[49m\u001b[43mretain_graph\u001b[49m\u001b[43m,\u001b[49m\n\u001b[1;32m    271\u001b[0m \u001b[43m    \u001b[49m\u001b[43mcreate_graph\u001b[49m\u001b[43m,\u001b[49m\n\u001b[1;32m    272\u001b[0m \u001b[43m    \u001b[49m\u001b[43minputs\u001b[49m\u001b[43m,\u001b[49m\n\u001b[1;32m    273\u001b[0m \u001b[43m    \u001b[49m\u001b[43mallow_unreachable\u001b[49m\u001b[38;5;241;43m=\u001b[39;49m\u001b[38;5;28;43;01mTrue\u001b[39;49;00m\u001b[43m,\u001b[49m\n\u001b[1;32m    274\u001b[0m \u001b[43m    \u001b[49m\u001b[43maccumulate_grad\u001b[49m\u001b[38;5;241;43m=\u001b[39;49m\u001b[38;5;28;43;01mTrue\u001b[39;49;00m\u001b[43m,\u001b[49m\n\u001b[1;32m    275\u001b[0m \u001b[43m\u001b[49m\u001b[43m)\u001b[49m\n",
      "File \u001b[0;32m~/venv/lib/python3.10/site-packages/torch/autograd/graph.py:744\u001b[0m, in \u001b[0;36m_engine_run_backward\u001b[0;34m(t_outputs, *args, **kwargs)\u001b[0m\n\u001b[1;32m    742\u001b[0m     unregister_hooks \u001b[38;5;241m=\u001b[39m _register_logging_hooks_on_whole_graph(t_outputs)\n\u001b[1;32m    743\u001b[0m \u001b[38;5;28;01mtry\u001b[39;00m:\n\u001b[0;32m--> 744\u001b[0m     \u001b[38;5;28;01mreturn\u001b[39;00m \u001b[43mVariable\u001b[49m\u001b[38;5;241;43m.\u001b[39;49m\u001b[43m_execution_engine\u001b[49m\u001b[38;5;241;43m.\u001b[39;49m\u001b[43mrun_backward\u001b[49m\u001b[43m(\u001b[49m\u001b[43m  \u001b[49m\u001b[38;5;66;43;03m# Calls into the C++ engine to run the backward pass\u001b[39;49;00m\n\u001b[1;32m    745\u001b[0m \u001b[43m        \u001b[49m\u001b[43mt_outputs\u001b[49m\u001b[43m,\u001b[49m\u001b[43m \u001b[49m\u001b[38;5;241;43m*\u001b[39;49m\u001b[43margs\u001b[49m\u001b[43m,\u001b[49m\u001b[43m \u001b[49m\u001b[38;5;241;43m*\u001b[39;49m\u001b[38;5;241;43m*\u001b[39;49m\u001b[43mkwargs\u001b[49m\n\u001b[1;32m    746\u001b[0m \u001b[43m    \u001b[49m\u001b[43m)\u001b[49m  \u001b[38;5;66;03m# Calls into the C++ engine to run the backward pass\u001b[39;00m\n\u001b[1;32m    747\u001b[0m \u001b[38;5;28;01mfinally\u001b[39;00m:\n\u001b[1;32m    748\u001b[0m     \u001b[38;5;28;01mif\u001b[39;00m attach_logging_hooks:\n",
      "\u001b[0;31mKeyboardInterrupt\u001b[0m: "
     ]
    }
   ],
   "source": [
    "learnRate = [1, 0.1, 0.01, 0.001]\n",
    "results = []\n",
    "\n",
    "for learnR in learnRate:\n",
    "    model = NeuralNetwork().to(device)\n",
    "    optimizer = torch.optim.SGD(model.parameters(), lr=learnR)\n",
    "    epochs = 10\n",
    "    lossArr = []\n",
    "    best_accuracy = 0\n",
    "    best_epoch = 0\n",
    "\n",
    "    for t in range(epochs):\n",
    "        train(train_dataloader, model, loss_fn, optimizer)\n",
    "        loss, accuracy = test(test_dataloader, model, loss_fn)\n",
    "\n",
    "        print(loss)\n",
    "\n",
    "        lossArr.append(loss)\n",
    "        if accuracy > best_accuracy:\n",
    "            best_accuracy = accuracy\n",
    "            best_epoch = t + 1\n",
    "\n",
    "    results.append((learnR, best_accuracy, best_epoch))\n",
    "\n",
    "    # Plot loss curve\n",
    "    plt.figure(figsize=(10, 6))\n",
    "    plt.plot(range(1, epochs + 1), lossArr, marker='o', linestyle='-', color='b')\n",
    "    plt.title(f\"Loss graph for learning rate: {learnR}\")\n",
    "    plt.xlabel('Epoch')\n",
    "    plt.ylabel('Loss')\n",
    "    plt.grid(True)\n",
    "    plt.show()\n"
   ]
  },
  {
   "cell_type": "code",
   "execution_count": 34,
   "metadata": {},
   "outputs": [
    {
     "name": "stdout",
     "output_type": "stream",
     "text": [
      "Using cpu device\n",
      "WiderNeuralNetwork(\n",
      "  (flatten): Flatten(start_dim=1, end_dim=-1)\n",
      "  (linear_relu_stack): Sequential(\n",
      "    (0): Linear(in_features=784, out_features=1024, bias=True)\n",
      "    (1): ReLU()\n",
      "    (2): Linear(in_features=1024, out_features=1024, bias=True)\n",
      "    (3): ReLU()\n",
      "    (4): Linear(in_features=1024, out_features=10, bias=True)\n",
      "  )\n",
      ")\n",
      "Number of trainable parameters in wider model: 1863690\n",
      "DeeperNeuralNetwork(\n",
      "  (flatten): Flatten(start_dim=1, end_dim=-1)\n",
      "  (linear_relu_stack): Sequential(\n",
      "    (0): Linear(in_features=784, out_features=512, bias=True)\n",
      "    (1): ReLU()\n",
      "    (2): Linear(in_features=512, out_features=512, bias=True)\n",
      "    (3): ReLU()\n",
      "    (4): Linear(in_features=512, out_features=512, bias=True)\n",
      "    (5): ReLU()\n",
      "    (6): Linear(in_features=512, out_features=512, bias=True)\n",
      "    (7): ReLU()\n",
      "    (8): Linear(in_features=512, out_features=10, bias=True)\n",
      "  )\n",
      ")\n",
      "Number of trainable parameters in deeper model: 1195018\n",
      "Epoch 1/10, Loss: 0.2722\n",
      "Epoch 2/10, Loss: 0.1280\n",
      "Epoch 3/10, Loss: 0.0990\n",
      "Epoch 4/10, Loss: 0.0800\n",
      "Epoch 5/10, Loss: 0.0701\n",
      "Epoch 6/10, Loss: 0.0594\n",
      "Epoch 7/10, Loss: 0.0552\n",
      "Epoch 8/10, Loss: 0.0486\n",
      "Epoch 9/10, Loss: 0.0460\n",
      "Epoch 10/10, Loss: 0.0364\n",
      "Wider Model Accuracy: 0.9751\n",
      "Epoch 1/10, Loss: 0.3287\n",
      "Epoch 2/10, Loss: 0.1565\n",
      "Epoch 3/10, Loss: 0.1234\n",
      "Epoch 4/10, Loss: 0.0994\n",
      "Epoch 5/10, Loss: 0.0865\n",
      "Epoch 6/10, Loss: 0.0765\n",
      "Epoch 7/10, Loss: 0.0674\n",
      "Epoch 8/10, Loss: 0.0631\n",
      "Epoch 9/10, Loss: 0.0557\n",
      "Epoch 10/10, Loss: 0.0520\n",
      "Deeper Model Accuracy: 0.9784\n"
     ]
    },
    {
     "data": {
      "image/png": "[encoded data removed]",
      "text/plain": [
       "<Figure size 640x480 with 1 Axes>"
      ]
     },
     "metadata": {},
     "output_type": "display_data"
    }
   ],
   "source": [
    "import torch.optim as optim\n",
    "\n",
    "# Get cpu or gpu device for training\n",
    "device = \"cuda\" if torch.cuda.is_available() else \"cpu\"\n",
    "print(\"Using {} device\".format(device))\n",
    "\n",
    "# Define wider model\n",
    "class WiderNeuralNetwork(nn.Module):\n",
    "    def __init__(self):\n",
    "        super(WiderNeuralNetwork, self).__init__()\n",
    "        self.flatten = nn.Flatten()\n",
    "        self.linear_relu_stack = nn.Sequential(\n",
    "            nn.Linear(28*28, 1024),\n",
    "            nn.ReLU(),\n",
    "            nn.Linear(1024, 1024),\n",
    "            nn.ReLU(),\n",
    "            nn.Linear(1024, 10)\n",
    "        )\n",
    "\n",
    "    def forward(self, x):\n",
    "        x = self.flatten(x)\n",
    "        logits = self.linear_relu_stack(x)\n",
    "        return logits\n",
    "\n",
    "wider_model = WiderNeuralNetwork().to(device)\n",
    "print(wider_model)\n",
    "\n",
    "# Number of parameters in wider model\n",
    "wider_model_params = sum(p.numel() for p in wider_model.parameters())\n",
    "print(f'Number of trainable parameters in wider model: {wider_model_params}')\n",
    "\n",
    "# Define deeper model\n",
    "class DeeperNeuralNetwork(nn.Module):\n",
    "    def __init__(self):\n",
    "        super(DeeperNeuralNetwork, self).__init__()\n",
    "        self.flatten = nn.Flatten()\n",
    "        self.linear_relu_stack = nn.Sequential(\n",
    "            nn.Linear(28*28, 512),\n",
    "            nn.ReLU(),\n",
    "            nn.Linear(512, 512),\n",
    "            nn.ReLU(),\n",
    "            nn.Linear(512, 512),\n",
    "            nn.ReLU(),\n",
    "            nn.Linear(512, 512),\n",
    "            nn.ReLU(),\n",
    "            nn.Linear(512, 10)\n",
    "        )\n",
    "\n",
    "    def forward(self, x):\n",
    "        x = self.flatten(x)\n",
    "        logits = self.linear_relu_stack(x)\n",
    "        return logits\n",
    "\n",
    "deeper_model = DeeperNeuralNetwork().to(device)\n",
    "print(deeper_model)\n",
    "\n",
    "# Number of parameters in deeper model\n",
    "deeper_model_params = sum(p.numel() for p in deeper_model.parameters())\n",
    "print(f'Number of trainable parameters in deeper model: {deeper_model_params}')\n",
    "\n",
    "training_data = datasets.FashionMNIST(\n",
    "    root=\"data\",\n",
    "    train=True,\n",
    "    download=True,\n",
    "    transform=ToTensor(),\n",
    ")\n",
    "\n",
    "# Download test data from open datasets.\n",
    "test_data = datasets.FashionMNIST(\n",
    "    root=\"data\",\n",
    "    train=False,\n",
    "    download=True,\n",
    "    transform=ToTensor(),\n",
    ")\n",
    "\n",
    "# Hyperparameters\n",
    "learning_rate = 1e-3\n",
    "batch_size = 64\n",
    "epochs = 10\n",
    "num_workers = 20\n",
    "\n",
    "# Load data\n",
    "train_dataloader = DataLoader(training_data, batch_size=batch_size, num_workers=num_workers)\n",
    "test_dataloader = DataLoader(test_data, batch_size=batch_size, num_workers=num_workers)\n",
    "\n",
    "# Training function\n",
    "def train(model, optimizer, criterion, epochs):\n",
    "    model.train()\n",
    "    loss_values = []\n",
    "    for epoch in range(epochs):\n",
    "        total_loss = 0\n",
    "        for batch, (X, y) in enumerate(train_loader):\n",
    "            X, y = X.to(device), y.to(device)\n",
    "            optimizer.zero_grad()\n",
    "            output = model(X)\n",
    "            loss = criterion(output, y)\n",
    "            loss.backward()\n",
    "            optimizer.step()\n",
    "            total_loss += loss.item()\n",
    "        avg_loss = total_loss / len(train_loader)\n",
    "        loss_values.append(avg_loss)\n",
    "        print(f'Epoch {epoch+1}/{epochs}, Loss: {avg_loss:.4f}')\n",
    "    return loss_values\n",
    "\n",
    "# Evaluation function\n",
    "def evaluate(model):\n",
    "    model.eval()\n",
    "    correct = 0\n",
    "    with torch.no_grad():\n",
    "        for X, y in test_loader:\n",
    "            X, y = X.to(device), y.to(device)\n",
    "            output = model(X)\n",
    "            pred = output.argmax(dim=1, keepdim=True)\n",
    "            correct += pred.eq(y.view_as(pred)).sum().item()\n",
    "    accuracy = correct / len(test_loader.dataset)\n",
    "    return accuracy\n",
    "\n",
    "# Train and evaluate wider model\n",
    "wider_optimizer = optim.Adam(wider_model.parameters(), lr=learning_rate)\n",
    "criterion = nn.CrossEntropyLoss()\n",
    "wider_loss_values = train(wider_model, wider_optimizer, criterion, epochs)\n",
    "wider_accuracy = evaluate(wider_model)\n",
    "print(f'Wider Model Accuracy: {wider_accuracy:.4f}')\n",
    "\n",
    "# Train and evaluate deeper model\n",
    "deeper_optimizer = optim.Adam(deeper_model.parameters(), lr=learning_rate)\n",
    "deeper_loss_values = train(deeper_model, deeper_optimizer, criterion, epochs)\n",
    "deeper_accuracy = evaluate(deeper_model)\n",
    "print(f'Deeper Model Accuracy: {deeper_accuracy:.4f}')\n",
    "\n",
    "# Plot loss curves\n",
    "plt.figure()\n",
    "plt.plot(wider_loss_values, label='Wider Model')\n",
    "plt.plot(deeper_loss_values, label='Deeper Model')\n",
    "plt.xlabel('Epoch')\n",
    "plt.ylabel('Loss')\n",
    "plt.legend()\n",
    "plt.title('Loss Curves')\n",
    "plt.show()"
   ]
  },
  {
   "cell_type": "code",
   "execution_count": null,
   "metadata": {},
   "outputs": [],
   "source": []
  },
  {
   "cell_type": "markdown",
   "metadata": {
    "id": "S16_96RS3O1H"
   },
   "source": [
    "# Question 2: Proposal for Practical Applications (30%)\n",
    "\n",
    "In this part of the assignment you need to write a report about an application of a computer vision algorithnm or technique. This can either be an application that you are aware of and possibly even use, such as a phone app, or it could be speculation -- an application that you think would benefit from using computer vision. \n",
    "\n",
    "Begin by choosing a particular CV idea, method or problem area, such as:\n",
    "\n",
    "a. removing noise in an image\n",
    "\n",
    "b. increasing the resolution of an image\n",
    "\n",
    "c. detecting and/or identifying objects in an image\n",
    "\n",
    "d. segmenting images into constituents parts\n",
    "\n",
    "e. estimating the depth of an object from one or more images\n",
    "\n",
    "f. estimating the motion of two objects in different frames\n",
    "\n",
    "g. others\n",
    "\n",
    "Now think about various ways your chosen technique could be used. Here is a list of possible applications you could consider, but you are not restricted to this list, and there will be credit given for sensible invention outside this list (but no penalty if you don't want to be \"inventive\"): image editing systems in your phone; enhancement of images from old film; obstacle detection and avoidance for a domestic robot; facial recognition for phone security; cancer detection; person tracking and re-identification in security cameras; sport decision review systems; road-sign detection and interpretation for self-driving cars.\n",
    "\n",
    "This is a little bit back-to-front from what might happen in real life in which the application usually motivates the solution, but the emphasis here is on an understanding of the CV technique.\n",
    "\n",
    "You need to write a short report (800 words max) in which you do the following:\n",
    "1. Clearly define the CV problem/area and describe its application scenarios\n",
    "2. Briefly describe a solution based on image processing, computer vision and/or machine learning.\n",
    "3. Discuss the advantages and the limitations of this method in various application scenarios\n",
    "\n",
    "Hint1: Submit an individual pdf report for question 2.\n",
    "\n",
    "Hint2: Organise your report well\n",
    "\n",
    "Hint3: You can use diagrams, flow charts or other figures in your report for better understanding of your solution.  \n",
    "\n",
    "***You do not need to implement your solution; just write the proposal/report and submit it as a separate PDF***\n",
    "\n",
    "\n"
   ]
  }
 ],
 "metadata": {
  "colab": {
   "collapsed_sections": [
    "DMOJD0_jdzzg"
   ],
   "provenance": []
  },
  "kernelspec": {
   "display_name": "venvPy3",
   "language": "python",
   "name": "venvpy3"
  },
  "language_info": {
   "codemirror_mode": {
    "name": "ipython",
    "version": 3
   },
   "file_extension": ".py",
   "mimetype": "text/x-python",
   "name": "python",
   "nbconvert_exporter": "python",
   "pygments_lexer": "ipython3",
   "version": "3.10.12"
  }
 },
 "nbformat": 4,
 "nbformat_minor": 4
}
